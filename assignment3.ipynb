{
 "cells": [
  {
   "cell_type": "markdown",
   "id": "5f2516d1",
   "metadata": {},
   "source": [
    "Import libraries"
   ]
  },
  {
   "cell_type": "code",
   "execution_count": 1,
   "id": "b752826c",
   "metadata": {},
   "outputs": [],
   "source": [
    "import sys\n",
    "import rospy\n",
    "import actionlib\n",
    "import actionlib.msg\n",
    "import assignment_2_2022.msg\n",
    "import time\n",
    "import math\n",
    "import jupyros as jr\n",
    "import numpy as np\n",
    "import ipywidgets as widgets\n",
    "import select\n",
    "import matplotlib.pyplot as plt\n",
    "from std_srvs.srv import *\n",
    "from nav_msgs.msg import Odometry\n",
    "from tf.transformations import quaternion_matrix\n",
    "from geometry_msgs.msg import Point, Pose, Twist\n",
    "from assignment_2_2022.msg import Position_velocity\n",
    "from sensor_msgs.msg import LaserScan\n",
    "from matplotlib.animation import FuncAnimation\n",
    "%matplotlib widget"
   ]
  },
  {
   "cell_type": "markdown",
   "id": "5ed2f8ed",
   "metadata": {},
   "source": [
    "Defining methods to handle the click on the button"
   ]
  },
  {
   "cell_type": "code",
   "execution_count": 2,
   "id": "cb89972c",
   "metadata": {},
   "outputs": [],
   "source": [
    "#This function is called when the reach goal button is clicked\n",
    "def reach_goal_button_clicked(_):\n",
    "    global pos_x, pos_y\n",
    "    #Retrive the x and y value from the input fields\n",
    "    pos_x = goal_x_input.value\n",
    "    pos_y = goal_y_input.value\n",
    "    #Create a goal message\n",
    "    goal = assignment_2_2022.msg.PlanningGoal()\n",
    "    goal.target_pose.pose.position.x = pos_x\n",
    "    goal.target_pose.pose.position.y = pos_y\n",
    "    #Send the goal to the action server\n",
    "    user.send_goal(goal)\n",
    "    vis.goal_callback(goal)\n",
    "\n",
    "#This function is called when the cancel button is clicked\n",
    "def cancel_goal_button_clicked(_):\n",
    "    #It checks if there is a goal already setted, if it is then cancel the goal\n",
    "    if user.get_state() == actionlib.GoalStatus.ACTIVE:\n",
    "        user.cancel_goal()\n",
    "        print(\"Goal cancelled!\")\n",
    "    #Otherwise it send a message that the is no active goal to cancel\n",
    "    else:\n",
    "        print(\"No active goal to cancel\")"
   ]
  },
  {
   "cell_type": "markdown",
   "id": "b6902d53",
   "metadata": {},
   "source": [
    "Defining the widget for the current position"
   ]
  },
  {
   "cell_type": "code",
   "execution_count": 3,
   "id": "20ee6d75",
   "metadata": {},
   "outputs": [],
   "source": [
    "#Defining two widgets to display the current position of the robot (x, y)\n",
    "current_pos_x=widgets.FloatText(description='Current position x:', disabled = True)\n",
    "current_pos_y=widgets.FloatText(description='Current position y:', disabled = True)"
   ]
  },
  {
   "cell_type": "markdown",
   "id": "224558af",
   "metadata": {},
   "source": [
    "Class visualizer for visualizing the graphic of robot position and statistics"
   ]
  },
  {
   "cell_type": "code",
   "execution_count": 4,
   "id": "074e841b",
   "metadata": {},
   "outputs": [],
   "source": [
    "global user\n",
    "#Class for visualizing data on the plot\n",
    "class Visualiser:\n",
    "    def __init__(self):\n",
    "        self.fig, (self.ax, self.ax2) = plt.subplots(2, 1, figsize=(8, 10))\n",
    "        \n",
    "        self.ln, = self.ax.plot([], [], 'ro')\n",
    "        \n",
    "        \n",
    "        self.x_data, self.y_data = [], []\n",
    "        self.goal_x_data, self.goal_y_data = [], []\n",
    "\n",
    "        self.reached_goals = 0\n",
    "        self.cancelled_goals = 0\n",
    "        self.current_goal_reached = False\n",
    "        self.goal_canceled = False\n",
    "    \n",
    "    #This function is used to initialize the graph by setting the x and y limits of the axes.\n",
    "    def plot_init(self):\n",
    "        self.ax.set_xlim(-10, 10)\n",
    "        self.ax.set_ylim(-10, 10)\n",
    "        self.ax2.set_ylim(0, 10)\n",
    "        self.ax2.set_yticks(np.arange(0,11,1))\n",
    "        self.ax2.grid(axis = 'y', color = 'grey', linestyle = '-', alpha = 0.5)\n",
    "        return self.ln\n",
    "    \n",
    "    #This function stores the position data for odom message and updates the current position widgets.\n",
    "    def odom_callback(self, odom_msg):\n",
    "        self.y_data.append(odom_msg.pose.pose.position.y)\n",
    "        self.x_data.append(odom_msg.pose.pose.position.x)\n",
    "        current_pos_x.value = round(odom_msg.pose.pose.position.x, 2)\n",
    "        current_pos_y.value = round(odom_msg.pose.pose.position.y, 2)\n",
    "    \n",
    "    #This function stores the goal position data\n",
    "    def goal_callback(self, goal_msg):\n",
    "        self.goal_x_data.append(goal_msg.target_pose.pose.position.x)\n",
    "        self.goal_y_data.append(goal_msg.target_pose.pose.position.y)\n",
    "    \n",
    "    #This function updates the graph based on the current status of the goal.\n",
    "    #It plots the robot's trajectory, marks reached and canceled goals, and updates the goal statistics.\n",
    "    def update_plot(self, frame):\n",
    "        status = user.get_state()\n",
    "        self.ln.set_data(self.x_data, self.y_data)\n",
    "        # check if the goal is reached\n",
    "        if status==3 and not(self.current_goal_reached):\n",
    "            self.ax.plot(self.goal_x_data[-1:], self.goal_y_data[-1:], 'go', label='Reached goals') \n",
    "            self.reached_goals += 1\n",
    "            self.ax2.bar(['Reached Goals', 'Cancelled Goals'], [self.reached_goals, self.cancelled_goals], color = 'orange')\n",
    "            self.current_goal_reached=True\n",
    "            \n",
    "        # check if the goal has been cancelled\n",
    "        elif status==2 and not(self.goal_canceled):\n",
    "            self.ax.plot(self.goal_x_data[-1:], self.goal_y_data[-1:], 'yo', label='Cancelled goals')\n",
    "            self.cancelled_goals += 1\n",
    "            self.ax2.bar(['Reached Goals', 'Cancelled Goals'], [self.reached_goals, self.cancelled_goals], color = 'orange')\n",
    "            self.goal_canceled=True\n",
    "        \n",
    "        elif (not(status==3) and self.current_goal_reached):\n",
    "            self.current_goal_reached=False \n",
    "            \n",
    "        elif (not(status==2) and self.goal_canceled):\n",
    "            self.goal_canceled=False\n",
    "            \n",
    "        # check if the robot is going to the current goal\n",
    "        elif (not(status==3) and not(status==2)):\n",
    "            self.ax.plot(self.goal_x_data[-1:], self.goal_y_data[-1:], 'bo', label='Current goals')\n",
    "            \n",
    "        self.ax2.bar(['Reached Goals', 'Cancelled Goals'], [self.reached_goals, self.cancelled_goals], color = 'orange')\n",
    "        return self.ln"
   ]
  },
  {
   "cell_type": "markdown",
   "id": "adfb0dd1",
   "metadata": {},
   "source": [
    "Initialize the node and defining the widget"
   ]
  },
  {
   "cell_type": "code",
   "execution_count": 5,
   "id": "be9e7983",
   "metadata": {
    "scrolled": false
   },
   "outputs": [
    {
     "data": {
      "application/vnd.jupyter.widget-view+json": {
       "model_id": "1455d59da96d42869f3721acb8774bb5",
       "version_major": 2,
       "version_minor": 0
      },
      "text/plain": [
       "Canvas(toolbar=Toolbar(toolitems=[('Home', 'Reset original view', 'home', 'home'), ('Back', 'Back to previous …"
      ]
     },
     "metadata": {},
     "output_type": "display_data"
    },
    {
     "data": {
      "application/vnd.jupyter.widget-view+json": {
       "model_id": "4c2eb17b1e784f958ea93daf710fe121",
       "version_major": 2,
       "version_minor": 0
      },
      "text/plain": [
       "VBox(children=(Label(value='Welcome to the Main Menu'), FloatText(value=0.0, description='Target X:'), FloatTe…"
      ]
     },
     "metadata": {},
     "output_type": "display_data"
    }
   ],
   "source": [
    "#INitialize the node\n",
    "rospy.init_node('user')\n",
    "\n",
    "#create an instance of the Visualiser class\n",
    "vis = Visualiser()\n",
    "\n",
    "#set titles for the graph\n",
    "vis.ax.set_title('Robot trajectory')\n",
    "vis.ax2.set_title('Number of goals reached and deleted')\n",
    "\n",
    "#Create publishers and subscribers\n",
    "pub = rospy.Publisher(\"/position_velocity\", Position_velocity, queue_size=1)\n",
    "sub = rospy.Subscriber('/odom', Odometry, vis.odom_callback)\n",
    "\n",
    "user = actionlib.SimpleActionClient('/reaching_goal', assignment_2_2022.msg.PlanningAction)\n",
    "user.wait_for_server()\n",
    "\n",
    "#Define the widgets for user interface\n",
    "goal_x_input = widgets.FloatText(description='Target X:')\n",
    "goal_y_input = widgets.FloatText(description='Target Y:')\n",
    "reach_goal_button = widgets.Button(description='Reach Goal')\n",
    "cancel_goal_button = widgets.Button(description='Cancel Goal')\n",
    "output_distance = widgets.FloatText(description='Closest obstacle distance:', value=0.0)\n",
    "\n",
    "reach_goal_button.on_click(reach_goal_button_clicked)\n",
    "cancel_goal_button.on_click(cancel_goal_button_clicked)\n",
    "\n",
    "menu_box = widgets.VBox([\n",
    "    widgets.Label('Welcome to the Main Menu'),\n",
    "    goal_x_input,\n",
    "    goal_y_input,\n",
    "    reach_goal_button,\n",
    "    cancel_goal_button,\n",
    "    output_distance,\n",
    "    current_pos_x,\n",
    "    current_pos_y,\n",
    "])\n",
    "\n",
    "display(menu_box)\n",
    "\n",
    "#This line creates an animation using the update_plot function of the Visualiser class and displays the graphic\n",
    "ani = FuncAnimation(vis.fig, vis.update_plot, init_func=vis.plot_init)\n",
    "plt.show(block=True)"
   ]
  },
  {
   "cell_type": "markdown",
   "id": "3a742bb2",
   "metadata": {},
   "source": [
    "Defining callback to identify the closest obstacle"
   ]
  },
  {
   "cell_type": "code",
   "execution_count": 6,
   "id": "7a8395ec",
   "metadata": {},
   "outputs": [
    {
     "data": {
      "application/vnd.jupyter.widget-view+json": {
       "model_id": "4066526d39d9415ca4cb0241b5e6b623",
       "version_major": 2,
       "version_minor": 0
      },
      "text/plain": [
       "VBox(children=(HBox(children=(Button(description='Stop', style=ButtonStyle()),)), Output(layout=Layout(border=…"
      ]
     },
     "metadata": {},
     "output_type": "display_data"
    }
   ],
   "source": [
    "def laser_scan_callback(scan_msg):\n",
    "    closest_obstacle_distance = scan_msg.range_max\n",
    "    for range_val in scan_msg.ranges:\n",
    "        if range_val < closest_obstacle_distance:\n",
    "            closest_obstacle_distance = range_val\n",
    "    output_distance.value = round(closest_obstacle_distance, 2)\n",
    "\n",
    "# Effettua la subscription per ricevere i messaggi del laser scanner\n",
    "jr.subscribe('/scan', LaserScan, laser_scan_callback)"
   ]
  }
 ],
 "metadata": {
  "kernelspec": {
   "display_name": "Python 3 (ipykernel)",
   "language": "python",
   "name": "python3"
  },
  "language_info": {
   "codemirror_mode": {
    "name": "ipython",
    "version": 3
   },
   "file_extension": ".py",
   "mimetype": "text/x-python",
   "name": "python",
   "nbconvert_exporter": "python",
   "pygments_lexer": "ipython3",
   "version": "3.8.5"
  }
 },
 "nbformat": 4,
 "nbformat_minor": 5
}
